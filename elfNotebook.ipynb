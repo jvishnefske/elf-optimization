{
 "metadata": {
  "name": "",
  "signature": "sha256:4772b118b49c7b3d0d362a3b475ae191f178bd61127d0fa038e73e4aec10d71c"
 },
 "nbformat": 3,
 "nbformat_minor": 0,
 "worksheets": [
  {
   "cells": [
    {
     "cell_type": "code",
     "collapsed": false,
     "input": [
      "import datetime \n",
      "globalStart = datetime.datetime(2014,1,1,0,0)\n",
      "#y,m,d,h,m\n",
      "toyStart = datetime.datetime(2014,1,2,1,30)\n",
      "delta= toyStart-globalStart\n",
      "print delta.days\n",
      "secondsPerDay = 3600*24\n",
      "minuteTime=(delta.seconds % secondsPerDay)/60\n",
      "print minuteTime\n",
      "dtime=delta+globalStart\n",
      "print dtime.strftime(\"%Y %m %d %H %m\")"
     ],
     "language": "python",
     "metadata": {},
     "outputs": [
      {
       "output_type": "stream",
       "stream": "stdout",
       "text": [
        "1\n",
        "90\n",
        "2014 01 02 01 01\n"
       ]
      }
     ],
     "prompt_number": 17
    },
    {
     "cell_type": "code",
     "collapsed": false,
     "input": [
      "a=list(range(3))"
     ],
     "language": "python",
     "metadata": {},
     "outputs": [],
     "prompt_number": 19
    },
    {
     "cell_type": "code",
     "collapsed": false,
     "input": [
      "tasks=[[2003,345],[4000,7],[6435,234]]\n",
      "times=list(zip(*tasks)[1])\n",
      "list.sort(times)\n",
      "times[-1]"
     ],
     "language": "python",
     "metadata": {},
     "outputs": [
      {
       "metadata": {},
       "output_type": "pyout",
       "prompt_number": 32,
       "text": [
        "345"
       ]
      }
     ],
     "prompt_number": 32
    },
    {
     "cell_type": "code",
     "collapsed": false,
     "input": [
      "max(1,2)"
     ],
     "language": "python",
     "metadata": {},
     "outputs": [
      {
       "metadata": {},
       "output_type": "pyout",
       "prompt_number": 33,
       "text": [
        "2"
       ]
      }
     ],
     "prompt_number": 33
    },
    {
     "cell_type": "code",
     "collapsed": false,
     "input": [],
     "language": "python",
     "metadata": {},
     "outputs": []
    }
   ],
   "metadata": {}
  }
 ]
}